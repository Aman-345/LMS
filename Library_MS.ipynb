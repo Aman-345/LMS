{
  "nbformat": 4,
  "nbformat_minor": 0,
  "metadata": {
    "colab": {
      "provenance": [],
      "authorship_tag": "ABX9TyN2PhlEkb5/MWvYQ4lWnBNU",
      "include_colab_link": true
    },
    "kernelspec": {
      "name": "python3",
      "display_name": "Python 3"
    },
    "language_info": {
      "name": "python"
    }
  },
  "cells": [
    {
      "cell_type": "markdown",
      "metadata": {
        "id": "view-in-github",
        "colab_type": "text"
      },
      "source": [
        "<a href=\"https://colab.research.google.com/github/Aman-345/LMS/blob/main/Untitled0.ipynb\" target=\"_parent\"><img src=\"https://colab.research.google.com/assets/colab-badge.svg\" alt=\"Open In Colab\"/></a>"
      ]
    },
    {
      "cell_type": "code",
      "execution_count": null,
      "metadata": {
        "id": "BBoz5_AmfPWp"
      },
      "outputs": [],
      "source": [
        "# Define a dictionary to store the books and their counts\n",
        "library = {\"Harry Potter\": 5, \"The Lord of the Rings\": 3, \"The Hunger Games\": 4, \"The Da Vinci Code\": 2}\n",
        "\n",
        "# Define a dictionary to store the usernames and passwords\n",
        "users = {\"admin\": \"1234\", \"user1\": \"abcd\", \"user2\": \"efgh\"}\n",
        "\n",
        "# Print a welcome message\n",
        "print(\"Welcome to the library management system.\")\n",
        "\n",
        "# Ask the user to enter their username\n",
        "username = input(\"Please enter your username: \")\n",
        "\n",
        "# Check if the username is in the users dictionary\n",
        "if username in users:\n",
        "    # Ask the user to enter their password\n",
        "    password = input(\"Please enter your password: \")\n",
        "    # Check if the password matches the username\n",
        "    if password == users[username]:\n",
        "        # Print a success message\n",
        "        print(f\"Hello, {username}. You have successfully logged in.\")\n",
        "        # Define a variable to store the user's choice\n",
        "        choice = \"\"\n",
        "        # Use a while loop to keep asking the user for their choice until they type 'exit'\n",
        "        while choice != \"exit\":\n",
        "            # Print the books you can borrow\n",
        "            print(\"Here are the books you can borrow:\")\n",
        "            # Loop through the keys of the library dictionary and print them\n",
        "            for book in library.keys():\n",
        "                print(book)\n",
        "            # Print a message to ask the user to enter their choice\n",
        "            print(\"Please enter the name of the book you want to borrow, or type 'exit' to quit.\")\n",
        "            # Get the user's input and store it in the choice variable\n",
        "            choice = input()\n",
        "            # Check if the choice is not 'exit'\n",
        "            if choice != \"exit\":\n",
        "                # Check if the book is in the library\n",
        "                if choice in library:\n",
        "                    # Check if the book is available\n",
        "                    if library[choice] > 0:\n",
        "                        # Reduce the count of the book by one\n",
        "                        library[choice] -= 1\n",
        "                        # Print a success message\n",
        "                        print(f\"You have successfully borrowed {choice}.\")\n",
        "                        print(f\"There are {library[choice]} copies left in the library.\")\n",
        "                    else:\n",
        "                        # Print a message that the book is out of stock\n",
        "                        print(f\"Sorry, {choice} is out of stock.\")\n",
        "                else:\n",
        "                    # Print a message that the book is not in the library\n",
        "                    print(f\"Sorry, {choice} is not in the library.\")\n",
        "    else:\n",
        "        # Print a message that the password is incorrect\n",
        "        print(\"Sorry, your password is incorrect.\")\n",
        "else:\n",
        "    # Print a message that the username is not registered\n",
        "    print(\"Sorry, your username is not registered.\")\n"
      ]
    }
  ]
}
